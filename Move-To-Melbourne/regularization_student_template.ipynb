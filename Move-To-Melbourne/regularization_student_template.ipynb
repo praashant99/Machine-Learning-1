{
 "cells": [
  {
   "cell_type": "code",
   "execution_count": 98,
   "metadata": {},
   "outputs": [],
   "source": [
    "import numpy as np\n",
    "import pandas as pd\n",
    "import seaborn as sns\n",
    "import matplotlib.pyplot as plt\n",
    "from sklearn.model_selection import train_test_split, cross_val_score\n",
    "from sklearn.linear_model import LinearRegression, Lasso, Ridge\n",
    "from sklearn.metrics import r2_score\n",
    "from sklearn.preprocessing import PolynomialFeatures\n",
    "from sklearn.pipeline import make_pipeline\n",
    "\n",
    "import warnings\n",
    "warnings.filterwarnings('ignore')"
   ]
  },
  {
   "cell_type": "code",
   "execution_count": 99,
   "metadata": {},
   "outputs": [],
   "source": [
    "from sklearn import datasets"
   ]
  },
  {
   "cell_type": "code",
   "execution_count": 100,
   "metadata": {},
   "outputs": [
    {
     "name": "stdout",
     "output_type": "stream",
     "text": [
      "0 a\n",
      "1 b\n",
      "2 c\n"
     ]
    },
    {
     "data": {
      "text/plain": [
       "['a', 'b', 'c']"
      ]
     },
     "execution_count": 100,
     "metadata": {},
     "output_type": "execute_result"
    }
   ],
   "source": [
    "p = ['a','b','c']\n",
    "for i,j in enumerate(p):\n",
    "    print(i, j)\n",
    "p"
   ]
  },
  {
   "cell_type": "markdown",
   "metadata": {},
   "source": [
    "### Load the dataset\n",
    "\n",
    "- Load the train data and using all your knowledge of pandas try to explore the different statistical properties like correlation of the dataset."
   ]
  },
  {
   "cell_type": "code",
   "execution_count": 101,
   "metadata": {},
   "outputs": [],
   "source": [
    "# Code starts here\n",
    "\n",
    "train = pd.read_csv('train.csv')\n",
    "test = pd.read_csv('test.csv')\n",
    "\n",
    "reg_dict = pd.read_excel('RegularizationDataDictionary.xlsx')\n",
    "samp_sub = pd.read_csv('sample_submission.csv')\n",
    "\n",
    "Id = test['Id']\n",
    "\n",
    "\n",
    "# Code ends here."
   ]
  },
  {
   "cell_type": "code",
   "execution_count": 102,
   "metadata": {},
   "outputs": [
    {
     "data": {
      "text/html": [
       "<div>\n",
       "<style scoped>\n",
       "    .dataframe tbody tr th:only-of-type {\n",
       "        vertical-align: middle;\n",
       "    }\n",
       "\n",
       "    .dataframe tbody tr th {\n",
       "        vertical-align: top;\n",
       "    }\n",
       "\n",
       "    .dataframe thead th {\n",
       "        text-align: right;\n",
       "    }\n",
       "</style>\n",
       "<table border=\"1\" class=\"dataframe\">\n",
       "  <thead>\n",
       "    <tr style=\"text-align: right;\">\n",
       "      <th></th>\n",
       "      <th>Id</th>\n",
       "      <th>Rooms</th>\n",
       "      <th>Type</th>\n",
       "      <th>Price</th>\n",
       "      <th>Method</th>\n",
       "      <th>SellerG</th>\n",
       "      <th>Distance</th>\n",
       "      <th>Postcode</th>\n",
       "      <th>Bathroom</th>\n",
       "      <th>Car</th>\n",
       "      <th>Landsize</th>\n",
       "      <th>BuildingArea</th>\n",
       "      <th>YearBuilt</th>\n",
       "      <th>CouncilArea</th>\n",
       "      <th>Longtitude</th>\n",
       "      <th>Regionname</th>\n",
       "      <th>Propertycount</th>\n",
       "    </tr>\n",
       "  </thead>\n",
       "  <tbody>\n",
       "    <tr>\n",
       "      <th>0</th>\n",
       "      <td>124</td>\n",
       "      <td>3</td>\n",
       "      <td>2</td>\n",
       "      <td>995000</td>\n",
       "      <td>1</td>\n",
       "      <td>135</td>\n",
       "      <td>6.3</td>\n",
       "      <td>3143</td>\n",
       "      <td>2</td>\n",
       "      <td>2</td>\n",
       "      <td>0</td>\n",
       "      <td>100.0</td>\n",
       "      <td>1998</td>\n",
       "      <td>26</td>\n",
       "      <td>145.01600</td>\n",
       "      <td>5</td>\n",
       "      <td>4836</td>\n",
       "    </tr>\n",
       "    <tr>\n",
       "      <th>1</th>\n",
       "      <td>5905</td>\n",
       "      <td>2</td>\n",
       "      <td>0</td>\n",
       "      <td>1080000</td>\n",
       "      <td>1</td>\n",
       "      <td>155</td>\n",
       "      <td>2.0</td>\n",
       "      <td>3066</td>\n",
       "      <td>1</td>\n",
       "      <td>0</td>\n",
       "      <td>0</td>\n",
       "      <td>94.0</td>\n",
       "      <td>1890</td>\n",
       "      <td>31</td>\n",
       "      <td>144.98863</td>\n",
       "      <td>2</td>\n",
       "      <td>4553</td>\n",
       "    </tr>\n",
       "    <tr>\n",
       "      <th>2</th>\n",
       "      <td>5963</td>\n",
       "      <td>3</td>\n",
       "      <td>0</td>\n",
       "      <td>725000</td>\n",
       "      <td>1</td>\n",
       "      <td>196</td>\n",
       "      <td>17.9</td>\n",
       "      <td>3082</td>\n",
       "      <td>2</td>\n",
       "      <td>2</td>\n",
       "      <td>602</td>\n",
       "      <td>129.0</td>\n",
       "      <td>1980</td>\n",
       "      <td>29</td>\n",
       "      <td>145.06912</td>\n",
       "      <td>2</td>\n",
       "      <td>10529</td>\n",
       "    </tr>\n",
       "    <tr>\n",
       "      <th>3</th>\n",
       "      <td>3521</td>\n",
       "      <td>4</td>\n",
       "      <td>0</td>\n",
       "      <td>1330000</td>\n",
       "      <td>1</td>\n",
       "      <td>251</td>\n",
       "      <td>8.0</td>\n",
       "      <td>3016</td>\n",
       "      <td>3</td>\n",
       "      <td>2</td>\n",
       "      <td>217</td>\n",
       "      <td>266.0</td>\n",
       "      <td>2003</td>\n",
       "      <td>10</td>\n",
       "      <td>144.87960</td>\n",
       "      <td>6</td>\n",
       "      <td>6380</td>\n",
       "    </tr>\n",
       "    <tr>\n",
       "      <th>4</th>\n",
       "      <td>3738</td>\n",
       "      <td>3</td>\n",
       "      <td>0</td>\n",
       "      <td>620000</td>\n",
       "      <td>1</td>\n",
       "      <td>221</td>\n",
       "      <td>12.4</td>\n",
       "      <td>3060</td>\n",
       "      <td>1</td>\n",
       "      <td>2</td>\n",
       "      <td>604</td>\n",
       "      <td>190.0</td>\n",
       "      <td>1970</td>\n",
       "      <td>23</td>\n",
       "      <td>144.96860</td>\n",
       "      <td>2</td>\n",
       "      <td>5070</td>\n",
       "    </tr>\n",
       "  </tbody>\n",
       "</table>\n",
       "</div>"
      ],
      "text/plain": [
       "     Id  Rooms  Type    Price  Method  SellerG  Distance  Postcode  Bathroom  \\\n",
       "0   124      3     2   995000       1      135       6.3      3143         2   \n",
       "1  5905      2     0  1080000       1      155       2.0      3066         1   \n",
       "2  5963      3     0   725000       1      196      17.9      3082         2   \n",
       "3  3521      4     0  1330000       1      251       8.0      3016         3   \n",
       "4  3738      3     0   620000       1      221      12.4      3060         1   \n",
       "\n",
       "   Car  Landsize  BuildingArea  YearBuilt  CouncilArea  Longtitude  \\\n",
       "0    2         0         100.0       1998           26   145.01600   \n",
       "1    0         0          94.0       1890           31   144.98863   \n",
       "2    2       602         129.0       1980           29   145.06912   \n",
       "3    2       217         266.0       2003           10   144.87960   \n",
       "4    2       604         190.0       1970           23   144.96860   \n",
       "\n",
       "   Regionname  Propertycount  \n",
       "0           5           4836  \n",
       "1           2           4553  \n",
       "2           2          10529  \n",
       "3           6           6380  \n",
       "4           2           5070  "
      ]
     },
     "execution_count": 102,
     "metadata": {},
     "output_type": "execute_result"
    }
   ],
   "source": [
    "train.head()"
   ]
  },
  {
   "cell_type": "code",
   "execution_count": 103,
   "metadata": {},
   "outputs": [
    {
     "data": {
      "text/plain": [
       "count     4781.000000\n",
       "mean       480.500105\n",
       "std        899.489722\n",
       "min          0.000000\n",
       "25%        168.000000\n",
       "50%        411.000000\n",
       "75%        638.000000\n",
       "max      37000.000000\n",
       "Name: Landsize, dtype: float64"
      ]
     },
     "execution_count": 103,
     "metadata": {},
     "output_type": "execute_result"
    }
   ],
   "source": [
    "train.Landsize.describe()"
   ]
  },
  {
   "cell_type": "code",
   "execution_count": 105,
   "metadata": {},
   "outputs": [
    {
     "data": {
      "text/plain": [
       "'General Region (West, North West, North, Northeast ...etc)'"
      ]
     },
     "execution_count": 105,
     "metadata": {},
     "output_type": "execute_result"
    }
   ],
   "source": [
    "#reg_dict.set_index('Feature',inplace = True)\n",
    "reg_dict.loc['Regionname'][0]"
   ]
  },
  {
   "cell_type": "code",
   "execution_count": null,
   "metadata": {},
   "outputs": [],
   "source": [
    "['Method','SellerG','Postcode','CouncilArea','Longitude']"
   ]
  },
  {
   "cell_type": "code",
   "execution_count": 106,
   "metadata": {},
   "outputs": [],
   "source": [
    "train.drop('Id',axis = 1, inplace = True)\n",
    "test.drop('Id', axis = 1, inplace = True)"
   ]
  },
  {
   "cell_type": "code",
   "execution_count": 107,
   "metadata": {},
   "outputs": [
    {
     "data": {
      "text/plain": [
       "<matplotlib.axes._subplots.AxesSubplot at 0x1a2b826c90>"
      ]
     },
     "execution_count": 107,
     "metadata": {},
     "output_type": "execute_result"
    },
    {
     "data": {
      "image/png": "[encoded data removed]",
      "text/plain": [
       "<Figure size 864x720 with 1 Axes>"
      ]
     },
     "metadata": {},
     "output_type": "display_data"
    }
   ],
   "source": [
    "train.Rooms.value_counts()\n",
    "plt.figure(figsize = [12,10])\n",
    "plt.title('Grouping houses by number of rooms', fontsize=18, fontweight='bold', y=1.05,)\n",
    "plt.xlabel('Number of players', fontsize=12)\n",
    "plt.ylabel('Players Age', fontsize=12)\n",
    "sns.set_style('whitegrid')\n",
    "sns.countplot(train.Rooms)"
   ]
  },
  {
   "cell_type": "code",
   "execution_count": 108,
   "metadata": {},
   "outputs": [
    {
     "data": {
      "text/html": [
       "<div>\n",
       "<style scoped>\n",
       "    .dataframe tbody tr th:only-of-type {\n",
       "        vertical-align: middle;\n",
       "    }\n",
       "\n",
       "    .dataframe tbody tr th {\n",
       "        vertical-align: top;\n",
       "    }\n",
       "\n",
       "    .dataframe thead th {\n",
       "        text-align: right;\n",
       "    }\n",
       "</style>\n",
       "<table border=\"1\" class=\"dataframe\">\n",
       "  <thead>\n",
       "    <tr style=\"text-align: right;\">\n",
       "      <th></th>\n",
       "      <th>Rooms</th>\n",
       "      <th>Type</th>\n",
       "      <th>Price</th>\n",
       "      <th>Method</th>\n",
       "      <th>SellerG</th>\n",
       "      <th>Distance</th>\n",
       "      <th>Postcode</th>\n",
       "      <th>Bathroom</th>\n",
       "      <th>Car</th>\n",
       "      <th>Landsize</th>\n",
       "      <th>BuildingArea</th>\n",
       "      <th>YearBuilt</th>\n",
       "      <th>CouncilArea</th>\n",
       "      <th>Longtitude</th>\n",
       "      <th>Regionname</th>\n",
       "      <th>Propertycount</th>\n",
       "    </tr>\n",
       "  </thead>\n",
       "  <tbody>\n",
       "    <tr>\n",
       "      <th>Rooms</th>\n",
       "      <td>1.000000</td>\n",
       "      <td>-0.590817</td>\n",
       "      <td>0.523579</td>\n",
       "      <td>-0.053525</td>\n",
       "      <td>-0.029506</td>\n",
       "      <td>0.289699</td>\n",
       "      <td>0.050753</td>\n",
       "      <td>0.607276</td>\n",
       "      <td>0.420030</td>\n",
       "      <td>0.092030</td>\n",
       "      <td>0.595395</td>\n",
       "      <td>-0.056373</td>\n",
       "      <td>-0.207234</td>\n",
       "      <td>0.095944</td>\n",
       "      <td>-0.009092</td>\n",
       "      <td>-0.106854</td>\n",
       "    </tr>\n",
       "    <tr>\n",
       "      <th>Type</th>\n",
       "      <td>-0.590817</td>\n",
       "      <td>1.000000</td>\n",
       "      <td>-0.426876</td>\n",
       "      <td>0.088308</td>\n",
       "      <td>0.026955</td>\n",
       "      <td>-0.242188</td>\n",
       "      <td>0.018737</td>\n",
       "      <td>-0.276890</td>\n",
       "      <td>-0.278868</td>\n",
       "      <td>-0.043433</td>\n",
       "      <td>-0.386768</td>\n",
       "      <td>0.304479</td>\n",
       "      <td>0.159736</td>\n",
       "      <td>0.000434</td>\n",
       "      <td>0.055988</td>\n",
       "      <td>0.111803</td>\n",
       "    </tr>\n",
       "    <tr>\n",
       "      <th>Price</th>\n",
       "      <td>0.523579</td>\n",
       "      <td>-0.426876</td>\n",
       "      <td>1.000000</td>\n",
       "      <td>-0.048165</td>\n",
       "      <td>-0.065393</td>\n",
       "      <td>-0.158197</td>\n",
       "      <td>0.120166</td>\n",
       "      <td>0.493173</td>\n",
       "      <td>0.237160</td>\n",
       "      <td>0.072753</td>\n",
       "      <td>0.519207</td>\n",
       "      <td>-0.297060</td>\n",
       "      <td>-0.119382</td>\n",
       "      <td>0.217738</td>\n",
       "      <td>0.083803</td>\n",
       "      <td>-0.052399</td>\n",
       "    </tr>\n",
       "    <tr>\n",
       "      <th>Method</th>\n",
       "      <td>-0.053525</td>\n",
       "      <td>0.088308</td>\n",
       "      <td>-0.048165</td>\n",
       "      <td>1.000000</td>\n",
       "      <td>-0.008889</td>\n",
       "      <td>-0.064479</td>\n",
       "      <td>-0.034679</td>\n",
       "      <td>-0.013801</td>\n",
       "      <td>-0.019285</td>\n",
       "      <td>-0.021601</td>\n",
       "      <td>-0.048287</td>\n",
       "      <td>0.021274</td>\n",
       "      <td>0.018771</td>\n",
       "      <td>-0.059914</td>\n",
       "      <td>0.033184</td>\n",
       "      <td>-0.024244</td>\n",
       "    </tr>\n",
       "    <tr>\n",
       "      <th>SellerG</th>\n",
       "      <td>-0.029506</td>\n",
       "      <td>0.026955</td>\n",
       "      <td>-0.065393</td>\n",
       "      <td>-0.008889</td>\n",
       "      <td>1.000000</td>\n",
       "      <td>0.024476</td>\n",
       "      <td>-0.001913</td>\n",
       "      <td>-0.034939</td>\n",
       "      <td>-0.000271</td>\n",
       "      <td>-0.028470</td>\n",
       "      <td>-0.042596</td>\n",
       "      <td>-0.000680</td>\n",
       "      <td>-0.002784</td>\n",
       "      <td>-0.061029</td>\n",
       "      <td>0.023397</td>\n",
       "      <td>0.063498</td>\n",
       "    </tr>\n",
       "    <tr>\n",
       "      <th>Distance</th>\n",
       "      <td>0.289699</td>\n",
       "      <td>-0.242188</td>\n",
       "      <td>-0.158197</td>\n",
       "      <td>-0.064479</td>\n",
       "      <td>0.024476</td>\n",
       "      <td>1.000000</td>\n",
       "      <td>0.414110</td>\n",
       "      <td>0.114934</td>\n",
       "      <td>0.257264</td>\n",
       "      <td>0.063563</td>\n",
       "      <td>0.145823</td>\n",
       "      <td>0.252163</td>\n",
       "      <td>-0.280674</td>\n",
       "      <td>0.210853</td>\n",
       "      <td>-0.089077</td>\n",
       "      <td>-0.063805</td>\n",
       "    </tr>\n",
       "    <tr>\n",
       "      <th>Postcode</th>\n",
       "      <td>0.050753</td>\n",
       "      <td>0.018737</td>\n",
       "      <td>0.120166</td>\n",
       "      <td>-0.034679</td>\n",
       "      <td>-0.001913</td>\n",
       "      <td>0.414110</td>\n",
       "      <td>1.000000</td>\n",
       "      <td>0.088003</td>\n",
       "      <td>0.024650</td>\n",
       "      <td>0.030973</td>\n",
       "      <td>0.062701</td>\n",
       "      <td>0.027168</td>\n",
       "      <td>-0.059066</td>\n",
       "      <td>0.423931</td>\n",
       "      <td>0.006935</td>\n",
       "      <td>0.058458</td>\n",
       "    </tr>\n",
       "    <tr>\n",
       "      <th>Bathroom</th>\n",
       "      <td>0.607276</td>\n",
       "      <td>-0.276890</td>\n",
       "      <td>0.493173</td>\n",
       "      <td>-0.013801</td>\n",
       "      <td>-0.034939</td>\n",
       "      <td>0.114934</td>\n",
       "      <td>0.088003</td>\n",
       "      <td>1.000000</td>\n",
       "      <td>0.325872</td>\n",
       "      <td>0.080768</td>\n",
       "      <td>0.525465</td>\n",
       "      <td>0.162484</td>\n",
       "      <td>-0.102732</td>\n",
       "      <td>0.109001</td>\n",
       "      <td>0.037968</td>\n",
       "      <td>-0.058078</td>\n",
       "    </tr>\n",
       "    <tr>\n",
       "      <th>Car</th>\n",
       "      <td>0.420030</td>\n",
       "      <td>-0.278868</td>\n",
       "      <td>0.237160</td>\n",
       "      <td>-0.019285</td>\n",
       "      <td>-0.000271</td>\n",
       "      <td>0.257264</td>\n",
       "      <td>0.024650</td>\n",
       "      <td>0.325872</td>\n",
       "      <td>1.000000</td>\n",
       "      <td>0.112280</td>\n",
       "      <td>0.318675</td>\n",
       "      <td>0.108676</td>\n",
       "      <td>-0.164842</td>\n",
       "      <td>0.048052</td>\n",
       "      <td>0.005941</td>\n",
       "      <td>-0.032157</td>\n",
       "    </tr>\n",
       "    <tr>\n",
       "      <th>Landsize</th>\n",
       "      <td>0.092030</td>\n",
       "      <td>-0.043433</td>\n",
       "      <td>0.072753</td>\n",
       "      <td>-0.021601</td>\n",
       "      <td>-0.028470</td>\n",
       "      <td>0.063563</td>\n",
       "      <td>0.030973</td>\n",
       "      <td>0.080768</td>\n",
       "      <td>0.112280</td>\n",
       "      <td>1.000000</td>\n",
       "      <td>0.081878</td>\n",
       "      <td>0.032836</td>\n",
       "      <td>-0.049492</td>\n",
       "      <td>0.039890</td>\n",
       "      <td>-0.012608</td>\n",
       "      <td>-0.019397</td>\n",
       "    </tr>\n",
       "    <tr>\n",
       "      <th>BuildingArea</th>\n",
       "      <td>0.595395</td>\n",
       "      <td>-0.386768</td>\n",
       "      <td>0.519207</td>\n",
       "      <td>-0.048287</td>\n",
       "      <td>-0.042596</td>\n",
       "      <td>0.145823</td>\n",
       "      <td>0.062701</td>\n",
       "      <td>0.525465</td>\n",
       "      <td>0.318675</td>\n",
       "      <td>0.081878</td>\n",
       "      <td>1.000000</td>\n",
       "      <td>0.014778</td>\n",
       "      <td>-0.165966</td>\n",
       "      <td>0.105596</td>\n",
       "      <td>0.033615</td>\n",
       "      <td>-0.071308</td>\n",
       "    </tr>\n",
       "    <tr>\n",
       "      <th>YearBuilt</th>\n",
       "      <td>-0.056373</td>\n",
       "      <td>0.304479</td>\n",
       "      <td>-0.297060</td>\n",
       "      <td>0.021274</td>\n",
       "      <td>-0.000680</td>\n",
       "      <td>0.252163</td>\n",
       "      <td>0.027168</td>\n",
       "      <td>0.162484</td>\n",
       "      <td>0.108676</td>\n",
       "      <td>0.032836</td>\n",
       "      <td>0.014778</td>\n",
       "      <td>1.000000</td>\n",
       "      <td>-0.065787</td>\n",
       "      <td>-0.009848</td>\n",
       "      <td>-0.014789</td>\n",
       "      <td>0.015524</td>\n",
       "    </tr>\n",
       "    <tr>\n",
       "      <th>CouncilArea</th>\n",
       "      <td>-0.207234</td>\n",
       "      <td>0.159736</td>\n",
       "      <td>-0.119382</td>\n",
       "      <td>0.018771</td>\n",
       "      <td>-0.002784</td>\n",
       "      <td>-0.280674</td>\n",
       "      <td>-0.059066</td>\n",
       "      <td>-0.102732</td>\n",
       "      <td>-0.164842</td>\n",
       "      <td>-0.049492</td>\n",
       "      <td>-0.165966</td>\n",
       "      <td>-0.065787</td>\n",
       "      <td>1.000000</td>\n",
       "      <td>-0.159771</td>\n",
       "      <td>-0.046359</td>\n",
       "      <td>0.017378</td>\n",
       "    </tr>\n",
       "    <tr>\n",
       "      <th>Longtitude</th>\n",
       "      <td>0.095944</td>\n",
       "      <td>0.000434</td>\n",
       "      <td>0.217738</td>\n",
       "      <td>-0.059914</td>\n",
       "      <td>-0.061029</td>\n",
       "      <td>0.210853</td>\n",
       "      <td>0.423931</td>\n",
       "      <td>0.109001</td>\n",
       "      <td>0.048052</td>\n",
       "      <td>0.039890</td>\n",
       "      <td>0.105596</td>\n",
       "      <td>-0.009848</td>\n",
       "      <td>-0.159771</td>\n",
       "      <td>1.000000</td>\n",
       "      <td>-0.480664</td>\n",
       "      <td>0.045455</td>\n",
       "    </tr>\n",
       "    <tr>\n",
       "      <th>Regionname</th>\n",
       "      <td>-0.009092</td>\n",
       "      <td>0.055988</td>\n",
       "      <td>0.083803</td>\n",
       "      <td>0.033184</td>\n",
       "      <td>0.023397</td>\n",
       "      <td>-0.089077</td>\n",
       "      <td>0.006935</td>\n",
       "      <td>0.037968</td>\n",
       "      <td>0.005941</td>\n",
       "      <td>-0.012608</td>\n",
       "      <td>0.033615</td>\n",
       "      <td>-0.014789</td>\n",
       "      <td>-0.046359</td>\n",
       "      <td>-0.480664</td>\n",
       "      <td>1.000000</td>\n",
       "      <td>-0.141699</td>\n",
       "    </tr>\n",
       "    <tr>\n",
       "      <th>Propertycount</th>\n",
       "      <td>-0.106854</td>\n",
       "      <td>0.111803</td>\n",
       "      <td>-0.052399</td>\n",
       "      <td>-0.024244</td>\n",
       "      <td>0.063498</td>\n",
       "      <td>-0.063805</td>\n",
       "      <td>0.058458</td>\n",
       "      <td>-0.058078</td>\n",
       "      <td>-0.032157</td>\n",
       "      <td>-0.019397</td>\n",
       "      <td>-0.071308</td>\n",
       "      <td>0.015524</td>\n",
       "      <td>0.017378</td>\n",
       "      <td>0.045455</td>\n",
       "      <td>-0.141699</td>\n",
       "      <td>1.000000</td>\n",
       "    </tr>\n",
       "  </tbody>\n",
       "</table>\n",
       "</div>"
      ],
      "text/plain": [
       "                  Rooms      Type     Price    Method   SellerG  Distance  \\\n",
       "Rooms          1.000000 -0.590817  0.523579 -0.053525 -0.029506  0.289699   \n",
       "Type          -0.590817  1.000000 -0.426876  0.088308  0.026955 -0.242188   \n",
       "Price          0.523579 -0.426876  1.000000 -0.048165 -0.065393 -0.158197   \n",
       "Method        -0.053525  0.088308 -0.048165  1.000000 -0.008889 -0.064479   \n",
       "SellerG       -0.029506  0.026955 -0.065393 -0.008889  1.000000  0.024476   \n",
       "Distance       0.289699 -0.242188 -0.158197 -0.064479  0.024476  1.000000   \n",
       "Postcode       0.050753  0.018737  0.120166 -0.034679 -0.001913  0.414110   \n",
       "Bathroom       0.607276 -0.276890  0.493173 -0.013801 -0.034939  0.114934   \n",
       "Car            0.420030 -0.278868  0.237160 -0.019285 -0.000271  0.257264   \n",
       "Landsize       0.092030 -0.043433  0.072753 -0.021601 -0.028470  0.063563   \n",
       "BuildingArea   0.595395 -0.386768  0.519207 -0.048287 -0.042596  0.145823   \n",
       "YearBuilt     -0.056373  0.304479 -0.297060  0.021274 -0.000680  0.252163   \n",
       "CouncilArea   -0.207234  0.159736 -0.119382  0.018771 -0.002784 -0.280674   \n",
       "Longtitude     0.095944  0.000434  0.217738 -0.059914 -0.061029  0.210853   \n",
       "Regionname    -0.009092  0.055988  0.083803  0.033184  0.023397 -0.089077   \n",
       "Propertycount -0.106854  0.111803 -0.052399 -0.024244  0.063498 -0.063805   \n",
       "\n",
       "               Postcode  Bathroom       Car  Landsize  BuildingArea  \\\n",
       "Rooms          0.050753  0.607276  0.420030  0.092030      0.595395   \n",
       "Type           0.018737 -0.276890 -0.278868 -0.043433     -0.386768   \n",
       "Price          0.120166  0.493173  0.237160  0.072753      0.519207   \n",
       "Method        -0.034679 -0.013801 -0.019285 -0.021601     -0.048287   \n",
       "SellerG       -0.001913 -0.034939 -0.000271 -0.028470     -0.042596   \n",
       "Distance       0.414110  0.114934  0.257264  0.063563      0.145823   \n",
       "Postcode       1.000000  0.088003  0.024650  0.030973      0.062701   \n",
       "Bathroom       0.088003  1.000000  0.325872  0.080768      0.525465   \n",
       "Car            0.024650  0.325872  1.000000  0.112280      0.318675   \n",
       "Landsize       0.030973  0.080768  0.112280  1.000000      0.081878   \n",
       "BuildingArea   0.062701  0.525465  0.318675  0.081878      1.000000   \n",
       "YearBuilt      0.027168  0.162484  0.108676  0.032836      0.014778   \n",
       "CouncilArea   -0.059066 -0.102732 -0.164842 -0.049492     -0.165966   \n",
       "Longtitude     0.423931  0.109001  0.048052  0.039890      0.105596   \n",
       "Regionname     0.006935  0.037968  0.005941 -0.012608      0.033615   \n",
       "Propertycount  0.058458 -0.058078 -0.032157 -0.019397     -0.071308   \n",
       "\n",
       "               YearBuilt  CouncilArea  Longtitude  Regionname  Propertycount  \n",
       "Rooms          -0.056373    -0.207234    0.095944   -0.009092      -0.106854  \n",
       "Type            0.304479     0.159736    0.000434    0.055988       0.111803  \n",
       "Price          -0.297060    -0.119382    0.217738    0.083803      -0.052399  \n",
       "Method          0.021274     0.018771   -0.059914    0.033184      -0.024244  \n",
       "SellerG        -0.000680    -0.002784   -0.061029    0.023397       0.063498  \n",
       "Distance        0.252163    -0.280674    0.210853   -0.089077      -0.063805  \n",
       "Postcode        0.027168    -0.059066    0.423931    0.006935       0.058458  \n",
       "Bathroom        0.162484    -0.102732    0.109001    0.037968      -0.058078  \n",
       "Car             0.108676    -0.164842    0.048052    0.005941      -0.032157  \n",
       "Landsize        0.032836    -0.049492    0.039890   -0.012608      -0.019397  \n",
       "BuildingArea    0.014778    -0.165966    0.105596    0.033615      -0.071308  \n",
       "YearBuilt       1.000000    -0.065787   -0.009848   -0.014789       0.015524  \n",
       "CouncilArea    -0.065787     1.000000   -0.159771   -0.046359       0.017378  \n",
       "Longtitude     -0.009848    -0.159771    1.000000   -0.480664       0.045455  \n",
       "Regionname     -0.014789    -0.046359   -0.480664    1.000000      -0.141699  \n",
       "Propertycount   0.015524     0.017378    0.045455   -0.141699       1.000000  "
      ]
     },
     "execution_count": 108,
     "metadata": {},
     "output_type": "execute_result"
    }
   ],
   "source": [
    "train.corr()"
   ]
  },
  {
   "cell_type": "code",
   "execution_count": 109,
   "metadata": {},
   "outputs": [
    {
     "data": {
      "text/plain": [
       "<matplotlib.axes._subplots.AxesSubplot at 0x1a25f0a9d0>"
      ]
     },
     "execution_count": 109,
     "metadata": {},
     "output_type": "execute_result"
    },
    {
     "data": {
      "image/png": "[encoded data removed]",
      "text/plain": [
       "<Figure size 864x720 with 2 Axes>"
      ]
     },
     "metadata": {},
     "output_type": "display_data"
    }
   ],
   "source": [
    "\n",
    "plt.figure(figsize = [12,10])\n",
    "sns.heatmap(train.corr())"
   ]
  },
  {
   "cell_type": "markdown",
   "metadata": {},
   "source": [
    "## Model building\n",
    "\n",
    "- Separate the features and target and then split the train data into train and validation set.\n",
    "- Apply different models of your choice and  then predict on the validation data and find the `accuracy_score` for this prediction.\n",
    "- Try improving upon the `accuracy_score` using different regularization techniques."
   ]
  },
  {
   "cell_type": "code",
   "execution_count": 111,
   "metadata": {},
   "outputs": [
    {
     "data": {
      "text/plain": [
       "0.3367854612858172"
      ]
     },
     "execution_count": 111,
     "metadata": {},
     "output_type": "execute_result"
    }
   ],
   "source": [
    "# Linear Regression\n",
    "\n",
    "X = train.drop(['Price'], axis = 1)\n",
    "y = train['Price']\n",
    "\n",
    "X_train, X_test, y_train, y_test = train_test_split(X,y, random_state = 4, test_size = 0.2)\n",
    "\n",
    "linreg = LinearRegression()\n",
    "linreg.fit(X_train, y_train)\n",
    "\n",
    "pred = linreg.predict(X_test)\n",
    "\n",
    "r2_score(pred, y_test)\n",
    "# Code ends here."
   ]
  },
  {
   "cell_type": "code",
   "execution_count": 113,
   "metadata": {},
   "outputs": [
    {
     "data": {
      "text/plain": [
       "0.6496614694454544"
      ]
     },
     "execution_count": 113,
     "metadata": {},
     "output_type": "execute_result"
    }
   ],
   "source": [
    "# polynomial fit \n",
    "\n",
    "poly = PolynomialFeatures(2)\n",
    "\n",
    "X_train_2 = poly.fit_transform(X_train)\n",
    "X_test_2 = poly.fit_transform(X_test)\n",
    "\n",
    "model = LinearRegression()\n",
    "\n",
    "model.fit(X_train_2, y_train)\n",
    "\n",
    "pred_2 = model.predict(X_test_2)\n",
    "\n",
    "r2_score(pred_2, y_test)"
   ]
  },
  {
   "cell_type": "code",
   "execution_count": 114,
   "metadata": {},
   "outputs": [
    {
     "data": {
      "text/plain": [
       "0.6366327355255055"
      ]
     },
     "execution_count": 114,
     "metadata": {},
     "output_type": "execute_result"
    }
   ],
   "source": [
    "# Regularization Lasso\n",
    "\n",
    "lasso = Lasso()\n",
    "lasso.fit(X_train_2, y_train)\n",
    "lasso_pred = lasso.predict(X_test_2)\n",
    "\n",
    "r2_score(lasso_pred, y_test)"
   ]
  },
  {
   "cell_type": "code",
   "execution_count": 116,
   "metadata": {},
   "outputs": [
    {
     "data": {
      "text/plain": [
       "0.6379292803439931"
      ]
     },
     "execution_count": 116,
     "metadata": {},
     "output_type": "execute_result"
    }
   ],
   "source": [
    "# Regularization Ridge\n",
    "\n",
    "ridge = Ridge()\n",
    "ridge.fit(X_train_2, y_train)\n",
    "ridge_pred = ridge.predict(X_test_2)\n",
    "\n",
    "r2_score(ridge_pred, y_test)"
   ]
  },
  {
   "cell_type": "markdown",
   "metadata": {},
   "source": [
    "### Prediction on the test data and creating the sample submission file.\n",
    "\n",
    "- Load the test data and store the `Id` column in a separate variable.\n",
    "- Perform the same operations on the test data that you have performed on the train data.\n",
    "- Create the submission file as a `csv` file consisting of the `Id` column from the test data and your prediction as the second column."
   ]
  },
  {
   "cell_type": "code",
   "execution_count": 120,
   "metadata": {},
   "outputs": [
    {
     "name": "stdout",
     "output_type": "stream",
     "text": [
      "[ 725951.97455356  848467.85569474 1774443.16531065 ...  901873.11365655\n",
      " 2491164.78733245 1585154.40541872]\n"
     ]
    }
   ],
   "source": [
    "# Code starts here\n",
    "\n",
    "\n",
    "#ridge_test_predict = ridge.predict(test)\n",
    "\n",
    "#Id = test['Id']\n",
    "#test.drop('Id', axis = 1, inplace = True)\n",
    "\n",
    "test_2 = poly.fit_transform(test)\n",
    "\n",
    "ridge_test_predict = ridge.predict(test_2)\n",
    "\n",
    "print(ridge_test_predict)\n",
    "# Code ends here."
   ]
  },
  {
   "cell_type": "code",
   "execution_count": 121,
   "metadata": {},
   "outputs": [
    {
     "data": {
      "text/html": [
       "<div>\n",
       "<style scoped>\n",
       "    .dataframe tbody tr th:only-of-type {\n",
       "        vertical-align: middle;\n",
       "    }\n",
       "\n",
       "    .dataframe tbody tr th {\n",
       "        vertical-align: top;\n",
       "    }\n",
       "\n",
       "    .dataframe thead th {\n",
       "        text-align: right;\n",
       "    }\n",
       "</style>\n",
       "<table border=\"1\" class=\"dataframe\">\n",
       "  <thead>\n",
       "    <tr style=\"text-align: right;\">\n",
       "      <th></th>\n",
       "      <th>Rooms</th>\n",
       "      <th>Type</th>\n",
       "      <th>Method</th>\n",
       "      <th>SellerG</th>\n",
       "      <th>Distance</th>\n",
       "      <th>Postcode</th>\n",
       "      <th>Bathroom</th>\n",
       "      <th>Car</th>\n",
       "      <th>Landsize</th>\n",
       "      <th>BuildingArea</th>\n",
       "      <th>YearBuilt</th>\n",
       "      <th>CouncilArea</th>\n",
       "      <th>Longtitude</th>\n",
       "      <th>Regionname</th>\n",
       "      <th>Propertycount</th>\n",
       "    </tr>\n",
       "  </thead>\n",
       "  <tbody>\n",
       "    <tr>\n",
       "      <th>Rooms</th>\n",
       "      <td>1.000000</td>\n",
       "      <td>-0.556557</td>\n",
       "      <td>-0.036821</td>\n",
       "      <td>0.009831</td>\n",
       "      <td>0.288738</td>\n",
       "      <td>0.103298</td>\n",
       "      <td>0.626419</td>\n",
       "      <td>0.422040</td>\n",
       "      <td>0.113395</td>\n",
       "      <td>0.623652</td>\n",
       "      <td>-0.033288</td>\n",
       "      <td>-0.200526</td>\n",
       "      <td>0.098317</td>\n",
       "      <td>0.002968</td>\n",
       "      <td>-0.084860</td>\n",
       "    </tr>\n",
       "    <tr>\n",
       "      <th>Type</th>\n",
       "      <td>-0.556557</td>\n",
       "      <td>1.000000</td>\n",
       "      <td>0.087910</td>\n",
       "      <td>0.007679</td>\n",
       "      <td>-0.238961</td>\n",
       "      <td>-0.014222</td>\n",
       "      <td>-0.266786</td>\n",
       "      <td>-0.288730</td>\n",
       "      <td>-0.049486</td>\n",
       "      <td>-0.394855</td>\n",
       "      <td>0.359378</td>\n",
       "      <td>0.134839</td>\n",
       "      <td>0.006528</td>\n",
       "      <td>0.047909</td>\n",
       "      <td>0.065837</td>\n",
       "    </tr>\n",
       "    <tr>\n",
       "      <th>Method</th>\n",
       "      <td>-0.036821</td>\n",
       "      <td>0.087910</td>\n",
       "      <td>1.000000</td>\n",
       "      <td>-0.007517</td>\n",
       "      <td>-0.046301</td>\n",
       "      <td>-0.024472</td>\n",
       "      <td>0.010057</td>\n",
       "      <td>-0.002854</td>\n",
       "      <td>-0.002626</td>\n",
       "      <td>-0.021788</td>\n",
       "      <td>0.031889</td>\n",
       "      <td>0.029971</td>\n",
       "      <td>-0.024542</td>\n",
       "      <td>0.007767</td>\n",
       "      <td>-0.012526</td>\n",
       "    </tr>\n",
       "    <tr>\n",
       "      <th>SellerG</th>\n",
       "      <td>0.009831</td>\n",
       "      <td>0.007679</td>\n",
       "      <td>-0.007517</td>\n",
       "      <td>1.000000</td>\n",
       "      <td>0.031740</td>\n",
       "      <td>-0.003973</td>\n",
       "      <td>-0.017720</td>\n",
       "      <td>0.023572</td>\n",
       "      <td>0.032021</td>\n",
       "      <td>-0.007867</td>\n",
       "      <td>0.038715</td>\n",
       "      <td>0.004766</td>\n",
       "      <td>-0.050411</td>\n",
       "      <td>-0.008943</td>\n",
       "      <td>0.057581</td>\n",
       "    </tr>\n",
       "    <tr>\n",
       "      <th>Distance</th>\n",
       "      <td>0.288738</td>\n",
       "      <td>-0.238961</td>\n",
       "      <td>-0.046301</td>\n",
       "      <td>0.031740</td>\n",
       "      <td>1.000000</td>\n",
       "      <td>0.484886</td>\n",
       "      <td>0.142881</td>\n",
       "      <td>0.283090</td>\n",
       "      <td>0.121329</td>\n",
       "      <td>0.177274</td>\n",
       "      <td>0.273458</td>\n",
       "      <td>-0.272050</td>\n",
       "      <td>0.225675</td>\n",
       "      <td>-0.108745</td>\n",
       "      <td>-0.055038</td>\n",
       "    </tr>\n",
       "    <tr>\n",
       "      <th>Postcode</th>\n",
       "      <td>0.103298</td>\n",
       "      <td>-0.014222</td>\n",
       "      <td>-0.024472</td>\n",
       "      <td>-0.003973</td>\n",
       "      <td>0.484886</td>\n",
       "      <td>1.000000</td>\n",
       "      <td>0.162957</td>\n",
       "      <td>0.100393</td>\n",
       "      <td>0.057402</td>\n",
       "      <td>0.124063</td>\n",
       "      <td>0.057449</td>\n",
       "      <td>-0.094495</td>\n",
       "      <td>0.444289</td>\n",
       "      <td>-0.057421</td>\n",
       "      <td>0.060039</td>\n",
       "    </tr>\n",
       "    <tr>\n",
       "      <th>Bathroom</th>\n",
       "      <td>0.626419</td>\n",
       "      <td>-0.266786</td>\n",
       "      <td>0.010057</td>\n",
       "      <td>-0.017720</td>\n",
       "      <td>0.142881</td>\n",
       "      <td>0.162957</td>\n",
       "      <td>1.000000</td>\n",
       "      <td>0.357309</td>\n",
       "      <td>0.083257</td>\n",
       "      <td>0.575298</td>\n",
       "      <td>0.175733</td>\n",
       "      <td>-0.141258</td>\n",
       "      <td>0.142644</td>\n",
       "      <td>0.032105</td>\n",
       "      <td>-0.071178</td>\n",
       "    </tr>\n",
       "    <tr>\n",
       "      <th>Car</th>\n",
       "      <td>0.422040</td>\n",
       "      <td>-0.288730</td>\n",
       "      <td>-0.002854</td>\n",
       "      <td>0.023572</td>\n",
       "      <td>0.283090</td>\n",
       "      <td>0.100393</td>\n",
       "      <td>0.357309</td>\n",
       "      <td>1.000000</td>\n",
       "      <td>0.116048</td>\n",
       "      <td>0.364346</td>\n",
       "      <td>0.128083</td>\n",
       "      <td>-0.199755</td>\n",
       "      <td>0.091095</td>\n",
       "      <td>0.004322</td>\n",
       "      <td>-0.035845</td>\n",
       "    </tr>\n",
       "    <tr>\n",
       "      <th>Landsize</th>\n",
       "      <td>0.113395</td>\n",
       "      <td>-0.049486</td>\n",
       "      <td>-0.002626</td>\n",
       "      <td>0.032021</td>\n",
       "      <td>0.121329</td>\n",
       "      <td>0.057402</td>\n",
       "      <td>0.083257</td>\n",
       "      <td>0.116048</td>\n",
       "      <td>1.000000</td>\n",
       "      <td>0.085134</td>\n",
       "      <td>0.028222</td>\n",
       "      <td>-0.050882</td>\n",
       "      <td>-0.000546</td>\n",
       "      <td>-0.003035</td>\n",
       "      <td>-0.003945</td>\n",
       "    </tr>\n",
       "    <tr>\n",
       "      <th>BuildingArea</th>\n",
       "      <td>0.623652</td>\n",
       "      <td>-0.394855</td>\n",
       "      <td>-0.021788</td>\n",
       "      <td>-0.007867</td>\n",
       "      <td>0.177274</td>\n",
       "      <td>0.124063</td>\n",
       "      <td>0.575298</td>\n",
       "      <td>0.364346</td>\n",
       "      <td>0.085134</td>\n",
       "      <td>1.000000</td>\n",
       "      <td>0.025929</td>\n",
       "      <td>-0.173169</td>\n",
       "      <td>0.111291</td>\n",
       "      <td>0.025617</td>\n",
       "      <td>-0.042673</td>\n",
       "    </tr>\n",
       "    <tr>\n",
       "      <th>YearBuilt</th>\n",
       "      <td>-0.033288</td>\n",
       "      <td>0.359378</td>\n",
       "      <td>0.031889</td>\n",
       "      <td>0.038715</td>\n",
       "      <td>0.273458</td>\n",
       "      <td>0.057449</td>\n",
       "      <td>0.175733</td>\n",
       "      <td>0.128083</td>\n",
       "      <td>0.028222</td>\n",
       "      <td>0.025929</td>\n",
       "      <td>1.000000</td>\n",
       "      <td>-0.050800</td>\n",
       "      <td>0.005794</td>\n",
       "      <td>-0.054231</td>\n",
       "      <td>-0.020609</td>\n",
       "    </tr>\n",
       "    <tr>\n",
       "      <th>CouncilArea</th>\n",
       "      <td>-0.200526</td>\n",
       "      <td>0.134839</td>\n",
       "      <td>0.029971</td>\n",
       "      <td>0.004766</td>\n",
       "      <td>-0.272050</td>\n",
       "      <td>-0.094495</td>\n",
       "      <td>-0.141258</td>\n",
       "      <td>-0.199755</td>\n",
       "      <td>-0.050882</td>\n",
       "      <td>-0.173169</td>\n",
       "      <td>-0.050800</td>\n",
       "      <td>1.000000</td>\n",
       "      <td>-0.146578</td>\n",
       "      <td>-0.080250</td>\n",
       "      <td>0.011863</td>\n",
       "    </tr>\n",
       "    <tr>\n",
       "      <th>Longtitude</th>\n",
       "      <td>0.098317</td>\n",
       "      <td>0.006528</td>\n",
       "      <td>-0.024542</td>\n",
       "      <td>-0.050411</td>\n",
       "      <td>0.225675</td>\n",
       "      <td>0.444289</td>\n",
       "      <td>0.142644</td>\n",
       "      <td>0.091095</td>\n",
       "      <td>-0.000546</td>\n",
       "      <td>0.111291</td>\n",
       "      <td>0.005794</td>\n",
       "      <td>-0.146578</td>\n",
       "      <td>1.000000</td>\n",
       "      <td>-0.444960</td>\n",
       "      <td>0.068326</td>\n",
       "    </tr>\n",
       "    <tr>\n",
       "      <th>Regionname</th>\n",
       "      <td>0.002968</td>\n",
       "      <td>0.047909</td>\n",
       "      <td>0.007767</td>\n",
       "      <td>-0.008943</td>\n",
       "      <td>-0.108745</td>\n",
       "      <td>-0.057421</td>\n",
       "      <td>0.032105</td>\n",
       "      <td>0.004322</td>\n",
       "      <td>-0.003035</td>\n",
       "      <td>0.025617</td>\n",
       "      <td>-0.054231</td>\n",
       "      <td>-0.080250</td>\n",
       "      <td>-0.444960</td>\n",
       "      <td>1.000000</td>\n",
       "      <td>-0.168485</td>\n",
       "    </tr>\n",
       "    <tr>\n",
       "      <th>Propertycount</th>\n",
       "      <td>-0.084860</td>\n",
       "      <td>0.065837</td>\n",
       "      <td>-0.012526</td>\n",
       "      <td>0.057581</td>\n",
       "      <td>-0.055038</td>\n",
       "      <td>0.060039</td>\n",
       "      <td>-0.071178</td>\n",
       "      <td>-0.035845</td>\n",
       "      <td>-0.003945</td>\n",
       "      <td>-0.042673</td>\n",
       "      <td>-0.020609</td>\n",
       "      <td>0.011863</td>\n",
       "      <td>0.068326</td>\n",
       "      <td>-0.168485</td>\n",
       "      <td>1.000000</td>\n",
       "    </tr>\n",
       "  </tbody>\n",
       "</table>\n",
       "</div>"
      ],
      "text/plain": [
       "                  Rooms      Type    Method   SellerG  Distance  Postcode  \\\n",
       "Rooms          1.000000 -0.556557 -0.036821  0.009831  0.288738  0.103298   \n",
       "Type          -0.556557  1.000000  0.087910  0.007679 -0.238961 -0.014222   \n",
       "Method        -0.036821  0.087910  1.000000 -0.007517 -0.046301 -0.024472   \n",
       "SellerG        0.009831  0.007679 -0.007517  1.000000  0.031740 -0.003973   \n",
       "Distance       0.288738 -0.238961 -0.046301  0.031740  1.000000  0.484886   \n",
       "Postcode       0.103298 -0.014222 -0.024472 -0.003973  0.484886  1.000000   \n",
       "Bathroom       0.626419 -0.266786  0.010057 -0.017720  0.142881  0.162957   \n",
       "Car            0.422040 -0.288730 -0.002854  0.023572  0.283090  0.100393   \n",
       "Landsize       0.113395 -0.049486 -0.002626  0.032021  0.121329  0.057402   \n",
       "BuildingArea   0.623652 -0.394855 -0.021788 -0.007867  0.177274  0.124063   \n",
       "YearBuilt     -0.033288  0.359378  0.031889  0.038715  0.273458  0.057449   \n",
       "CouncilArea   -0.200526  0.134839  0.029971  0.004766 -0.272050 -0.094495   \n",
       "Longtitude     0.098317  0.006528 -0.024542 -0.050411  0.225675  0.444289   \n",
       "Regionname     0.002968  0.047909  0.007767 -0.008943 -0.108745 -0.057421   \n",
       "Propertycount -0.084860  0.065837 -0.012526  0.057581 -0.055038  0.060039   \n",
       "\n",
       "               Bathroom       Car  Landsize  BuildingArea  YearBuilt  \\\n",
       "Rooms          0.626419  0.422040  0.113395      0.623652  -0.033288   \n",
       "Type          -0.266786 -0.288730 -0.049486     -0.394855   0.359378   \n",
       "Method         0.010057 -0.002854 -0.002626     -0.021788   0.031889   \n",
       "SellerG       -0.017720  0.023572  0.032021     -0.007867   0.038715   \n",
       "Distance       0.142881  0.283090  0.121329      0.177274   0.273458   \n",
       "Postcode       0.162957  0.100393  0.057402      0.124063   0.057449   \n",
       "Bathroom       1.000000  0.357309  0.083257      0.575298   0.175733   \n",
       "Car            0.357309  1.000000  0.116048      0.364346   0.128083   \n",
       "Landsize       0.083257  0.116048  1.000000      0.085134   0.028222   \n",
       "BuildingArea   0.575298  0.364346  0.085134      1.000000   0.025929   \n",
       "YearBuilt      0.175733  0.128083  0.028222      0.025929   1.000000   \n",
       "CouncilArea   -0.141258 -0.199755 -0.050882     -0.173169  -0.050800   \n",
       "Longtitude     0.142644  0.091095 -0.000546      0.111291   0.005794   \n",
       "Regionname     0.032105  0.004322 -0.003035      0.025617  -0.054231   \n",
       "Propertycount -0.071178 -0.035845 -0.003945     -0.042673  -0.020609   \n",
       "\n",
       "               CouncilArea  Longtitude  Regionname  Propertycount  \n",
       "Rooms            -0.200526    0.098317    0.002968      -0.084860  \n",
       "Type              0.134839    0.006528    0.047909       0.065837  \n",
       "Method            0.029971   -0.024542    0.007767      -0.012526  \n",
       "SellerG           0.004766   -0.050411   -0.008943       0.057581  \n",
       "Distance         -0.272050    0.225675   -0.108745      -0.055038  \n",
       "Postcode         -0.094495    0.444289   -0.057421       0.060039  \n",
       "Bathroom         -0.141258    0.142644    0.032105      -0.071178  \n",
       "Car              -0.199755    0.091095    0.004322      -0.035845  \n",
       "Landsize         -0.050882   -0.000546   -0.003035      -0.003945  \n",
       "BuildingArea     -0.173169    0.111291    0.025617      -0.042673  \n",
       "YearBuilt        -0.050800    0.005794   -0.054231      -0.020609  \n",
       "CouncilArea       1.000000   -0.146578   -0.080250       0.011863  \n",
       "Longtitude       -0.146578    1.000000   -0.444960       0.068326  \n",
       "Regionname       -0.080250   -0.444960    1.000000      -0.168485  \n",
       "Propertycount     0.011863    0.068326   -0.168485       1.000000  "
      ]
     },
     "execution_count": 121,
     "metadata": {},
     "output_type": "execute_result"
    }
   ],
   "source": [
    "test.corr()"
   ]
  },
  {
   "cell_type": "code",
   "execution_count": null,
   "metadata": {},
   "outputs": [],
   "source": []
  },
  {
   "cell_type": "code",
   "execution_count": 122,
   "metadata": {},
   "outputs": [
    {
     "name": "stdout",
     "output_type": "stream",
     "text": [
      "181244593000.3784\n",
      "181310506682.5397\n"
     ]
    }
   ],
   "source": [
    "# Using Cross Validation \n",
    "from sklearn.metrics import make_scorer\n",
    "from sklearn.metrics import mean_squared_error\n",
    "scorer = make_scorer(mean_squared_error, greater_is_better = False)\n",
    "\n",
    "L1 = Lasso()\n",
    "L2 = Ridge()\n",
    "\n",
    "\n",
    "# cross validation with L1\n",
    "rmse_L1 = -np.mean(cross_val_score(L1,X_train,y_train,scoring=scorer, cv=10))\n",
    "print(rmse_L1)\n",
    "# cross validation with L2\n",
    "rmse_L2 = -np.mean(cross_val_score(L2,X_train,y_train,scoring=scorer, cv=10))\n",
    "print(rmse_L2)"
   ]
  },
  {
   "cell_type": "code",
   "execution_count": 123,
   "metadata": {},
   "outputs": [
    {
     "name": "stdout",
     "output_type": "stream",
     "text": [
      "360702.63724694395\n",
      "367528.3598978502\n",
      "LASSO\n"
     ]
    }
   ],
   "source": [
    "# Hyper-parameter Tuning\n",
    "\n",
    "from sklearn.model_selection import GridSearchCV, RandomizedSearchCV\n",
    "import warnings\n",
    "warnings.filterwarnings('ignore')\n",
    "\n",
    "# regularization parameters for grid search\n",
    "ridge_lambdas = [0.01, 0.03, 0.06, 0.1, 0.3, 0.6, 1, 3, 6, 10, 30, 60]\n",
    "lasso_lambdas = [0.0001, 0.0003, 0.0006, 0.001, 0.003, 0.006, 0.01, 0.03, 0.06, 0.1, 0.3, 0.6, 1]\n",
    "\n",
    "# Code starts here\n",
    "\n",
    "# instantiate lasso and ridge models\n",
    "lasso_model = Lasso()\n",
    "ridge_model = Ridge()\n",
    "\n",
    "# grid search on lasso and ridge\n",
    "ridge_grid = GridSearchCV(estimator = ridge_model, param_grid = dict(alpha = ridge_lambdas))\n",
    "ridge_grid.fit(X_train_2,y_train)\n",
    "\n",
    "lasso_grid = GridSearchCV(estimator = lasso_model, param_grid = dict(alpha = lasso_lambdas))\n",
    "lasso_grid.fit(X_train_2,y_train)\n",
    "\n",
    "# make predictions \n",
    "lasso_pred = lasso_grid.predict(X_test_2)\n",
    "ridge_pred = ridge_grid.predict(X_test_2)\n",
    "\n",
    "# print out which is better\n",
    "lasso_rmse = np.sqrt(mean_squared_error(lasso_pred,y_test))\n",
    "print(lasso_rmse)\n",
    "ridge_rmse = np.sqrt(mean_squared_error(ridge_pred,y_test))\n",
    "print(ridge_rmse)\n",
    "\n",
    "if lasso_rmse < ridge_rmse:\n",
    "    best_model = 'LASSO'\n",
    "else:\n",
    "    best_model = 'RIDGE'\n",
    "\n",
    "print(best_model)\n",
    "# Code ends here"
   ]
  },
  {
   "cell_type": "code",
   "execution_count": 124,
   "metadata": {},
   "outputs": [
    {
     "data": {
      "text/plain": [
       "0.6403380048246974"
      ]
     },
     "execution_count": 124,
     "metadata": {},
     "output_type": "execute_result"
    }
   ],
   "source": [
    "r2_score(ridge_pred,y_test)"
   ]
  },
  {
   "cell_type": "code",
   "execution_count": 125,
   "metadata": {},
   "outputs": [
    {
     "data": {
      "text/plain": [
       "0.6366370924156397"
      ]
     },
     "execution_count": 125,
     "metadata": {},
     "output_type": "execute_result"
    }
   ],
   "source": [
    "r2_score(lasso_pred,y_test)"
   ]
  },
  {
   "cell_type": "code",
   "execution_count": 41,
   "metadata": {},
   "outputs": [],
   "source": [
    "ridge_predict = ridge_grid.predict(test_2)\n",
    "lasso_predict = lasso_grid.predict(test_2)"
   ]
  },
  {
   "cell_type": "code",
   "execution_count": 43,
   "metadata": {},
   "outputs": [],
   "source": [
    "submission = pd.DataFrame({'Id': Id, 'Price':ridge_predict})\n",
    "submission.to_csv('third_submission.csv', index = False)"
   ]
  },
  {
   "cell_type": "code",
   "execution_count": 94,
   "metadata": {},
   "outputs": [
    {
     "data": {
      "text/html": [
       "<div>\n",
       "<style scoped>\n",
       "    .dataframe tbody tr th:only-of-type {\n",
       "        vertical-align: middle;\n",
       "    }\n",
       "\n",
       "    .dataframe tbody tr th {\n",
       "        vertical-align: top;\n",
       "    }\n",
       "\n",
       "    .dataframe thead th {\n",
       "        text-align: right;\n",
       "    }\n",
       "</style>\n",
       "<table border=\"1\" class=\"dataframe\">\n",
       "  <thead>\n",
       "    <tr style=\"text-align: right;\">\n",
       "      <th></th>\n",
       "      <th>Id</th>\n",
       "      <th>Price</th>\n",
       "    </tr>\n",
       "  </thead>\n",
       "  <tbody>\n",
       "    <tr>\n",
       "      <th>0</th>\n",
       "      <td>5067</td>\n",
       "      <td>7.243398e+05</td>\n",
       "    </tr>\n",
       "    <tr>\n",
       "      <th>1</th>\n",
       "      <td>3722</td>\n",
       "      <td>8.660108e+05</td>\n",
       "    </tr>\n",
       "    <tr>\n",
       "      <th>2</th>\n",
       "      <td>6820</td>\n",
       "      <td>1.839400e+06</td>\n",
       "    </tr>\n",
       "    <tr>\n",
       "      <th>3</th>\n",
       "      <td>3103</td>\n",
       "      <td>6.747442e+05</td>\n",
       "    </tr>\n",
       "    <tr>\n",
       "      <th>4</th>\n",
       "      <td>2820</td>\n",
       "      <td>9.428004e+05</td>\n",
       "    </tr>\n",
       "    <tr>\n",
       "      <th>...</th>\n",
       "      <td>...</td>\n",
       "      <td>...</td>\n",
       "    </tr>\n",
       "    <tr>\n",
       "      <th>2044</th>\n",
       "      <td>6339</td>\n",
       "      <td>9.822433e+05</td>\n",
       "    </tr>\n",
       "    <tr>\n",
       "      <th>2045</th>\n",
       "      <td>2687</td>\n",
       "      <td>9.413411e+05</td>\n",
       "    </tr>\n",
       "    <tr>\n",
       "      <th>2046</th>\n",
       "      <td>2564</td>\n",
       "      <td>8.922103e+05</td>\n",
       "    </tr>\n",
       "    <tr>\n",
       "      <th>2047</th>\n",
       "      <td>290</td>\n",
       "      <td>2.435413e+06</td>\n",
       "    </tr>\n",
       "    <tr>\n",
       "      <th>2048</th>\n",
       "      <td>239</td>\n",
       "      <td>1.533068e+06</td>\n",
       "    </tr>\n",
       "  </tbody>\n",
       "</table>\n",
       "<p>2049 rows × 2 columns</p>\n",
       "</div>"
      ],
      "text/plain": [
       "        Id         Price\n",
       "0     5067  7.243398e+05\n",
       "1     3722  8.660108e+05\n",
       "2     6820  1.839400e+06\n",
       "3     3103  6.747442e+05\n",
       "4     2820  9.428004e+05\n",
       "...    ...           ...\n",
       "2044  6339  9.822433e+05\n",
       "2045  2687  9.413411e+05\n",
       "2046  2564  8.922103e+05\n",
       "2047   290  2.435413e+06\n",
       "2048   239  1.533068e+06\n",
       "\n",
       "[2049 rows x 2 columns]"
      ]
     },
     "execution_count": 94,
     "metadata": {},
     "output_type": "execute_result"
    }
   ],
   "source": [
    "pd.DataFrame({'Id':Id, 'Price': lasso_predict})"
   ]
  },
  {
   "cell_type": "markdown",
   "metadata": {},
   "source": [
    "## Using Pipeline"
   ]
  },
  {
   "cell_type": "code",
   "execution_count": 130,
   "metadata": {},
   "outputs": [],
   "source": [
    "from sklearn.preprocessing import StandardScaler\n",
    "from sklearn.decomposition import PCA\n",
    "from sklearn.pipeline import Pipeline"
   ]
  },
  {
   "cell_type": "code",
   "execution_count": 279,
   "metadata": {},
   "outputs": [],
   "source": [
    "X = train.drop(['Price'], axis = 1)\n",
    "y = train['Price']\n",
    "\n",
    "X_train, X_test, y_train, y_test = train_test_split(X,y, random_state = 349, test_size = 0.2)"
   ]
  },
  {
   "cell_type": "code",
   "execution_count": 196,
   "metadata": {},
   "outputs": [],
   "source": [
    "scaler = StandardScaler()\n",
    "scaler.fit(X_train)\n",
    "X_train = scaler.transform(X_train)\n",
    "X_test = scaler.transform(X_test)"
   ]
  },
  {
   "cell_type": "code",
   "execution_count": 157,
   "metadata": {},
   "outputs": [],
   "source": [
    "pca = PCA(n_components = 5)\n",
    "X = pca.fit_transform(X)"
   ]
  },
  {
   "cell_type": "markdown",
   "metadata": {},
   "source": [
    "# Questions\n",
    "\n",
    "1. Why is Standard Scaler giving a worse score for linear pregression?\n",
    "2. Why does the r2_score change drastically with changing random_state input?"
   ]
  },
  {
   "cell_type": "code",
   "execution_count": 280,
   "metadata": {},
   "outputs": [
    {
     "data": {
      "text/plain": [
       "0.6032317127303157"
      ]
     },
     "execution_count": 280,
     "metadata": {},
     "output_type": "execute_result"
    }
   ],
   "source": [
    "linreg = LinearRegression()\n",
    "linreg.fit(X_train, y_train)\n",
    "preds = linreg.predict(X_test)\n",
    "r2_score(preds, y_test)"
   ]
  },
  {
   "cell_type": "code",
   "execution_count": 281,
   "metadata": {},
   "outputs": [
    {
     "data": {
      "text/plain": [
       "0.7789715454417516"
      ]
     },
     "execution_count": 281,
     "metadata": {},
     "output_type": "execute_result"
    }
   ],
   "source": [
    "poly = PolynomialFeatures(2)\n",
    "\n",
    "X_train_2 = poly.fit_transform(X_train)\n",
    "X_test_2 = poly.fit_transform(X_test)\n",
    "\n",
    "test_2 = poly.fit_transform(test)\n",
    "\n",
    "model = LinearRegression()\n",
    "\n",
    "model.fit(X_train_2, y_train)\n",
    "\n",
    "pred_2 = model.predict(X_test_2)\n",
    "\n",
    "prediction = model.predict(test_2)\n",
    "r2_score(pred_2, y_test)"
   ]
  },
  {
   "cell_type": "code",
   "execution_count": 232,
   "metadata": {},
   "outputs": [
    {
     "data": {
      "text/plain": [
       "(957, 136)"
      ]
     },
     "execution_count": 232,
     "metadata": {},
     "output_type": "execute_result"
    }
   ],
   "source": [
    "X_test_2.shape"
   ]
  },
  {
   "cell_type": "code",
   "execution_count": 282,
   "metadata": {},
   "outputs": [
    {
     "data": {
      "text/plain": [
       "0.7648010563263425"
      ]
     },
     "execution_count": 282,
     "metadata": {},
     "output_type": "execute_result"
    }
   ],
   "source": [
    "lasso = Lasso()\n",
    "lasso.fit(X_train_2, y_train)\n",
    "lasso_pred = lasso.predict(X_test_2)\n",
    "\n",
    "lasso_prediction = lasso.predict(test_2)\n",
    "r2_score(lasso_pred, y_test)"
   ]
  },
  {
   "cell_type": "code",
   "execution_count": 283,
   "metadata": {},
   "outputs": [
    {
     "data": {
      "text/plain": [
       "0.7724162038401691"
      ]
     },
     "execution_count": 283,
     "metadata": {},
     "output_type": "execute_result"
    }
   ],
   "source": [
    "ridge = Ridge()\n",
    "ridge.fit(X_train_2, y_train)\n",
    "ridge_pred = ridge.predict(X_test_2)\n",
    "\n",
    "ridge_prediction = ridge.predict(test_2)\n",
    "\n",
    "r2_score(ridge_pred, y_test)"
   ]
  },
  {
   "cell_type": "code",
   "execution_count": 285,
   "metadata": {},
   "outputs": [],
   "source": [
    "submission = pd.DataFrame({'Id': Id, 'Price':prediction})\n",
    "submission.to_csv('forth_submission.csv', index = False)"
   ]
  },
  {
   "cell_type": "code",
   "execution_count": 222,
   "metadata": {},
   "outputs": [
    {
     "data": {
      "text/html": [
       "<div>\n",
       "<style scoped>\n",
       "    .dataframe tbody tr th:only-of-type {\n",
       "        vertical-align: middle;\n",
       "    }\n",
       "\n",
       "    .dataframe tbody tr th {\n",
       "        vertical-align: top;\n",
       "    }\n",
       "\n",
       "    .dataframe thead th {\n",
       "        text-align: right;\n",
       "    }\n",
       "</style>\n",
       "<table border=\"1\" class=\"dataframe\">\n",
       "  <thead>\n",
       "    <tr style=\"text-align: right;\">\n",
       "      <th></th>\n",
       "      <th>Id</th>\n",
       "      <th>Price</th>\n",
       "    </tr>\n",
       "  </thead>\n",
       "  <tbody>\n",
       "    <tr>\n",
       "      <th>0</th>\n",
       "      <td>5067</td>\n",
       "      <td>7.528320e+05</td>\n",
       "    </tr>\n",
       "    <tr>\n",
       "      <th>1</th>\n",
       "      <td>3722</td>\n",
       "      <td>8.543998e+05</td>\n",
       "    </tr>\n",
       "    <tr>\n",
       "      <th>2</th>\n",
       "      <td>6820</td>\n",
       "      <td>1.807767e+06</td>\n",
       "    </tr>\n",
       "    <tr>\n",
       "      <th>3</th>\n",
       "      <td>3103</td>\n",
       "      <td>6.806612e+05</td>\n",
       "    </tr>\n",
       "    <tr>\n",
       "      <th>4</th>\n",
       "      <td>2820</td>\n",
       "      <td>9.122926e+05</td>\n",
       "    </tr>\n",
       "    <tr>\n",
       "      <th>...</th>\n",
       "      <td>...</td>\n",
       "      <td>...</td>\n",
       "    </tr>\n",
       "    <tr>\n",
       "      <th>2044</th>\n",
       "      <td>6339</td>\n",
       "      <td>9.887275e+05</td>\n",
       "    </tr>\n",
       "    <tr>\n",
       "      <th>2045</th>\n",
       "      <td>2687</td>\n",
       "      <td>8.659426e+05</td>\n",
       "    </tr>\n",
       "    <tr>\n",
       "      <th>2046</th>\n",
       "      <td>2564</td>\n",
       "      <td>9.169625e+05</td>\n",
       "    </tr>\n",
       "    <tr>\n",
       "      <th>2047</th>\n",
       "      <td>290</td>\n",
       "      <td>2.422249e+06</td>\n",
       "    </tr>\n",
       "    <tr>\n",
       "      <th>2048</th>\n",
       "      <td>239</td>\n",
       "      <td>1.529951e+06</td>\n",
       "    </tr>\n",
       "  </tbody>\n",
       "</table>\n",
       "<p>2049 rows × 2 columns</p>\n",
       "</div>"
      ],
      "text/plain": [
       "        Id         Price\n",
       "0     5067  7.528320e+05\n",
       "1     3722  8.543998e+05\n",
       "2     6820  1.807767e+06\n",
       "3     3103  6.806612e+05\n",
       "4     2820  9.122926e+05\n",
       "...    ...           ...\n",
       "2044  6339  9.887275e+05\n",
       "2045  2687  8.659426e+05\n",
       "2046  2564  9.169625e+05\n",
       "2047   290  2.422249e+06\n",
       "2048   239  1.529951e+06\n",
       "\n",
       "[2049 rows x 2 columns]"
      ]
     },
     "execution_count": 222,
     "metadata": {},
     "output_type": "execute_result"
    }
   ],
   "source": [
    "submission"
   ]
  },
  {
   "cell_type": "code",
   "execution_count": 305,
   "metadata": {},
   "outputs": [],
   "source": [
    "def Rscore_random_state(random_state):\n",
    "    X_train, X_test, y_train, y_test = train_test_split(X,y, random_state = random_state, test_size = 0.2)\n",
    "    \n",
    "    linreg = LinearRegression()\n",
    "    linreg.fit(X_train, y_train)\n",
    "    preds = linreg.predict(X_test)\n",
    "    a = r2_score(preds, y_test)\n",
    "    \n",
    "    poly = PolynomialFeatures(2)\n",
    "    X_train_2 = poly.fit_transform(X_train)\n",
    "    X_test_2 = poly.fit_transform(X_test)\n",
    "    model = LinearRegression()\n",
    "    model.fit(X_train_2, y_train)\n",
    "    pred_2 = model.predict(X_test_2)\n",
    "    b = r2_score(pred_2, y_test)\n",
    "    \n",
    "    #print('R2_score with Linear Regression for Random State {} is {}'.format(random_state, a))\n",
    "    #print('R2_score with Polynomial Regression for Random State {} is {}'.format(random_state, b))\n",
    "    \n",
    "    return (random_state, a,b)"
   ]
  },
  {
   "cell_type": "code",
   "execution_count": 306,
   "metadata": {},
   "outputs": [],
   "source": [
    "import matplotlib.pyplot as plt"
   ]
  },
  {
   "cell_type": "code",
   "execution_count": 318,
   "metadata": {},
   "outputs": [
    {
     "name": "stdout",
     "output_type": "stream",
     "text": [
      "Duration: 39.488373041152954\n"
     ]
    },
    {
     "data": {
      "image/png": "[encoded data removed]",
      "text/plain": [
       "<Figure size 864x720 with 1 Axes>"
      ]
     },
     "metadata": {},
     "output_type": "display_data"
    }
   ],
   "source": [
    "lst_lr = []\n",
    "lst_pr = []\n",
    "lst_rs = []\n",
    "plt.figure(figsize = [12,10])\n",
    "plt.xlabel('Random_State')\n",
    "plt.ylabel('R2 Score')\n",
    "start = time.time()\n",
    "for n in range(0,1000):\n",
    "    random_state, a, b = Rscore_random_state(n)\n",
    "    plt.scatter(random_state,a, color = 'darkblue', alpha = 0.5)\n",
    "    plt.scatter(random_state,b, color = 'yellow', alpha = 0.5)\n",
    "    #print(Rscore_random_state(n))\n",
    "    lst_pr.append(b)\n",
    "    lst_lr.append(a)\n",
    "    lst_rs.append(random_state)\n",
    "plt.legend(['Linear Regression', 'Polynomial Regression'])\n",
    "end = time.time()\n",
    "print('Duration: {}'.format(end-start))"
   ]
  },
  {
   "cell_type": "code",
   "execution_count": 268,
   "metadata": {},
   "outputs": [
    {
     "data": {
      "text/plain": [
       "<function time.time>"
      ]
     },
     "execution_count": 268,
     "metadata": {},
     "output_type": "execute_result"
    }
   ],
   "source": [
    "import time\n",
    "time.time()"
   ]
  },
  {
   "cell_type": "code",
   "execution_count": 290,
   "metadata": {},
   "outputs": [
    {
     "data": {
      "text/plain": [
       "0.7598114052021494"
      ]
     },
     "execution_count": 290,
     "metadata": {},
     "output_type": "execute_result"
    }
   ],
   "source": [
    "max(lst_pr)"
   ]
  },
  {
   "cell_type": "code",
   "execution_count": 276,
   "metadata": {},
   "outputs": [
    {
     "data": {
      "text/plain": [
       "349"
      ]
     },
     "execution_count": 276,
     "metadata": {},
     "output_type": "execute_result"
    }
   ],
   "source": [
    "lst_pr.index(0.7789715454417516)"
   ]
  },
  {
   "cell_type": "code",
   "execution_count": 313,
   "metadata": {},
   "outputs": [
    {
     "data": {
      "text/plain": [
       "<matplotlib.legend.Legend at 0x1a39442890>"
      ]
     },
     "execution_count": 313,
     "metadata": {},
     "output_type": "execute_result"
    },
    {
     "data": {
      "image/png": "[encoded data removed]",
      "text/plain": [
       "<Figure size 864x720 with 1 Axes>"
      ]
     },
     "metadata": {},
     "output_type": "display_data"
    }
   ],
   "source": [
    "plt.figure(figsize = [12,10])\n",
    "plt.scatter(lst_lr,lst_pr,color = 'darkblue')\n",
    "plt.legend(['yolo'])"
   ]
  },
  {
   "cell_type": "code",
   "execution_count": 317,
   "metadata": {},
   "outputs": [],
   "source": [
    "plt.style?"
   ]
  }
 ],
 "metadata": {
  "kernelspec": {
   "display_name": "Python 3",
   "language": "python",
   "name": "python3"
  },
  "language_info": {
   "codemirror_mode": {
    "name": "ipython",
    "version": 3
   },
   "file_extension": ".py",
   "mimetype": "text/x-python",
   "name": "python",
   "nbconvert_exporter": "python",
   "pygments_lexer": "ipython3",
   "version": "3.7.6"
  }
 },
 "nbformat": 4,
 "nbformat_minor": 2
}
